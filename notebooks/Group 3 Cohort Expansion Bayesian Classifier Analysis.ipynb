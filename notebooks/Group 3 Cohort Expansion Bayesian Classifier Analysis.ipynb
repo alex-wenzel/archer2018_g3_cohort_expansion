{
 "cells": [
  {
   "cell_type": "markdown",
   "metadata": {},
   "source": [
    "# Analysis Overview\n",
    "\n",
    "**Author**: Clarence Mah<br>\n",
    "**Email**: ckmah@ucsd.edu\n",
    "\n",
    "TODO: citation\n",
    "\n",
    "This replicates the \"Group 3 Cohort Expansion\" analysis found in: Proteomics, post-translational modifications, and integrative analyses reveal heterogeneity of molecular mechanisms within medulloblastoma subgroups. Archer et al. (2018).\n",
    "\n",
    "To expand our number of G3a/G3b type tumors (typed with proteomics-based clustering), we used the c1 and c5 samples from the Cho et al. (2011) cohort which are most like Group 3. Since only array data were available for the Cho samples, we also used array data for our current Group 3 cohort to better normalize the two data sets.\n",
    "\n",
    "Following the methods in Cho et al. (2011), we projected the expression data for both cohorts into “gene set space” using a single sample version of GSEA (ssGSEA), using the Hallmarks (H), Curated Gene\n",
    "Sets (C2), Motif Gene Sets (C3), and Oncogenic Gene Sets (C6) collections from the MSigDB. Using the G3a, G3b labels for the current cohort, we determined the 10 most differentially enriched gene sets for each subtype (Figure S5D, main text) according to the Information Coefficient (IC) as defined in Kim et al. (2016). These top sets were used as features to train a Bayesian cumulative log-odds predictor as previously described (Tamayo et al., 2011). The predictor was applied to the projected Cho et al. (2011) c1 and c5 samples to assign G3a and G3b labels."
   ]
  },
  {
   "cell_type": "markdown",
   "metadata": {},
   "source": [
    "# Notebook Setup"
   ]
  },
  {
   "cell_type": "code",
   "execution_count": 1,
   "metadata": {
    "ExecuteTime": {
     "end_time": "2017-12-14T20:27:18.824575Z",
     "start_time": "2017-12-14T20:27:18.772585Z"
    }
   },
   "outputs": [],
   "source": [
    "import matplotlib as mpl\n",
    "import matplotlib.pyplot as plt\n",
    "import numpy as np\n",
    "import pandas as pd\n",
    "import seaborn as sns\n",
    "\n",
    "import sys\n",
    "import os\n",
    "\n",
    "sys.path.append('../scripts/')\n",
    "sys.setrecursionlimit(40000)\n",
    "\n",
    "from rpy2.robjects import pandas2ri\n",
    "pandas2ri.activate()\n",
    "\n",
    "%matplotlib inline"
   ]
  },
  {
   "cell_type": "markdown",
   "metadata": {},
   "source": [
    "Functions for rpy2 interface to the bayesian classifier."
   ]
  },
  {
   "cell_type": "code",
   "execution_count": 2,
   "metadata": {},
   "outputs": [],
   "source": [
    "def apply_bayesian_classifier(train_features, train_target, train_dir, test_features, out_dir, run_train=True):\n",
    "    '''\n",
    "    Apply a Bayesian predictor for continuous (via discretization), binary or multi-class targets.\n",
    "\n",
    "    train_features : str\n",
    "        Path to dataset with features as rows and samples as columns.\n",
    "\n",
    "    train_target : str\n",
    "        Path to training dataset category labels.\n",
    "\n",
    "    train_dir : str\n",
    "        Path to training model folder.\n",
    "\n",
    "    test_features : str\n",
    "        Path to testing dataset with features as rows and samples as columns.\n",
    "\n",
    "    out_dir : str\n",
    "        Path to save testing data classification files.\n",
    "\n",
    "    run_train : bool\n",
    "        True to perform training step, False to skip.\n",
    "    '''\n",
    "    command = 'Rscript ../scripts/apply_bayesian_classifier.R {} {} {} {} {} {}'.format(\n",
    "        train_features,\n",
    "        train_target,\n",
    "        train_dir,\n",
    "        test_features,\n",
    "        out_dir,\n",
    "        run_train)\n",
    "\n",
    "    os.system(command)\n",
    "    probs_file = os.path.join(out_dir, 'test_output.gct')\n",
    "    probs_df = pd.read_table(probs_file, skiprows=2)\n",
    "    return probs_df"
   ]
  },
  {
   "cell_type": "markdown",
   "metadata": {},
   "source": [
    "# Apply bayesian classifier"
   ]
  },
  {
   "cell_type": "markdown",
   "metadata": {},
   "source": [
    "Use top 10 differentially enriched pathways of training data (Fraenkel G3a/b samples). Total 20 features.\n",
    "\n",
    "NOTE: Step may be slow and will try to install required R packages as necessary."
   ]
  },
  {
   "cell_type": "code",
   "execution_count": 3,
   "metadata": {
    "ExecuteTime": {
     "end_time": "2017-12-13T18:01:00.737473Z",
     "start_time": "2017-12-13T18:00:53.806594Z"
    }
   },
   "outputs": [],
   "source": [
    "train_features = '../data/fraenkel/affy_norm.msigdb.v6.0.h.c2.c3.c6.PROJ.g3a_g3b.top_10.gct'\n",
    "train_target = '../data/fraenkel/g3ab.subtypes.verbose.gct'\n",
    "train_dir = '../data/fraenkel/g3ab_affy_no_go_train/'\n",
    "\n",
    "# NOTE: change files to fit your test dataset\n",
    "test_features = '../data/cho/cho.fraenkel_affy.v6.0.h.c2.c3.c6.proj.g3a_g3b.top_10.gct'\n",
    "out_dir = '../data/cho/cho_g3ab_affy_no_go_test/'\n",
    "\n",
    "test_prob = apply_bayesian_classifier(train_features, train_target, train_dir, test_features, out_dir)"
   ]
  },
  {
   "cell_type": "markdown",
   "metadata": {},
   "source": [
    "Load test results."
   ]
  },
  {
   "cell_type": "code",
   "execution_count": 4,
   "metadata": {
    "ExecuteTime": {
     "end_time": "2017-12-13T18:01:00.773397Z",
     "start_time": "2017-12-13T18:01:00.739092Z"
    }
   },
   "outputs": [],
   "source": [
    "# NOTE: change files to fit your test dataset\n",
    "test_prob = pd.read_table('../data/cho/cho_g3ab_affy_no_go_test/test_output.gct', skiprows=2, index_col='Name')\n",
    "test_prob.drop('Description', axis=1, inplace=True)\n",
    "test_labels = test_prob.loc['predicted.model']\n",
    "test_labels.replace(to_replace='G3a', value='A', inplace=True)\n",
    "test_labels.replace(to_replace='G3b', value='B', inplace=True)"
   ]
  },
  {
   "cell_type": "markdown",
   "metadata": {},
   "source": [
    "# Evaluate Results"
   ]
  },
  {
   "cell_type": "markdown",
   "metadata": {},
   "source": [
    "Load test data c1/c5 labels to compare to predicted G3a/b labels."
   ]
  },
  {
   "cell_type": "code",
   "execution_count": 5,
   "metadata": {},
   "outputs": [],
   "source": [
    "colors = {'G3b': '#F68B1F',\n",
    "          'G3a': '#ECE81B',\n",
    "          'G4': '#6E8C3D',\n",
    "          'SHHa': '#E72A2D',\n",
    "          'SHHb': '#714A9E'}"
   ]
  },
  {
   "cell_type": "code",
   "execution_count": 6,
   "metadata": {
    "ExecuteTime": {
     "end_time": "2017-12-13T18:16:16.511418Z",
     "start_time": "2017-12-13T18:16:16.480241Z"
    }
   },
   "outputs": [],
   "source": [
    "# NOTE: change files to fit your test dataset\n",
    "cho_c_labels = pd.read_table('../data/cho/primaries.subtypes.tsv', index_col=0, header=None).iloc[:,0]\n",
    "cho_c_labels = cho_c_labels.loc[(cho_c_labels == 'c1') | (cho_c_labels == 'c5')]\n",
    "\n",
    "annotations = pd.DataFrame([test_labels, cho_c_labels]).T\n",
    "annotations = annotations.apply(lambda x: pd.factorize(x)[0])\n",
    "annotations.replace([0,1], [colors['G3a'], colors['G3b']], inplace=True)\n",
    "annotations.columns = ['predicted', 'c']"
   ]
  },
  {
   "cell_type": "code",
   "execution_count": 7,
   "metadata": {
    "ExecuteTime": {
     "end_time": "2017-12-13T18:17:11.191142Z",
     "start_time": "2017-12-13T18:17:10.384039Z"
    }
   },
   "outputs": [
    {
     "data": {
      "text/plain": [
       "<seaborn.matrix.ClusterGrid at 0x1194f95f8>"
      ]
     },
     "execution_count": 7,
     "metadata": {},
     "output_type": "execute_result"
    },
    {
     "data": {
      "image/png": "[encoded data removed]",
      "text/plain": [
       "<Figure size 720x720 with 5 Axes>"
      ]
     },
     "metadata": {},
     "output_type": "display_data"
    }
   ],
   "source": [
    "sns.clustermap(\n",
    "    test_prob.iloc[:2, :].astype(float),\n",
    "    cmap='Blues',\n",
    "    col_cluster=False,\n",
    "    row_cluster=False,\n",
    "    col_colors=annotations)"
   ]
  }
 ],
 "metadata": {
  "hide_input": false,
  "kernelspec": {
   "display_name": "Python 3",
   "language": "python",
   "name": "python3"
  },
  "language_info": {
   "codemirror_mode": {
    "name": "ipython",
    "version": 3
   },
   "file_extension": ".py",
   "mimetype": "text/x-python",
   "name": "python",
   "nbconvert_exporter": "python",
   "pygments_lexer": "ipython3",
   "version": "3.6.1"
  },
  "varInspector": {
   "cols": {
    "lenName": 16,
    "lenType": 16,
    "lenVar": 40
   },
   "kernels_config": {
    "python": {
     "delete_cmd_postfix": "",
     "delete_cmd_prefix": "del ",
     "library": "var_list.py",
     "varRefreshCmd": "print(var_dic_list())"
    },
    "r": {
     "delete_cmd_postfix": ") ",
     "delete_cmd_prefix": "rm(",
     "library": "var_list.r",
     "varRefreshCmd": "cat(var_dic_list()) "
    }
   },
   "types_to_exclude": [
    "module",
    "function",
    "builtin_function_or_method",
    "instance",
    "_Feature"
   ],
   "window_display": false
  }
 },
 "nbformat": 4,
 "nbformat_minor": 2
}
